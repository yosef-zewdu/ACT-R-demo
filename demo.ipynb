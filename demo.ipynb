{
 "cells": [
  {
   "cell_type": "markdown",
   "id": "9ec44a91",
   "metadata": {},
   "source": [
    "# ACT-R Demo"
   ]
  },
  {
   "cell_type": "markdown",
   "id": "bd4bbf85",
   "metadata": {},
   "source": [
    "- The model will be a mind that makes just one action\n",
    "- `plan` to turn one card in `Memory`. \n",
    "- check that the `game` to be played is `Memory`. If so, take an action. \n",
    "- Assume that there are 10 cards that can be uncovered by pressing numbers 1,2,...9,0. \n",
    "- the `action` should be to `press a key` with one of the numbers."
   ]
  },
  {
   "cell_type": "markdown",
   "id": "8b864be3",
   "metadata": {},
   "source": [
    "## Goal buffer & Production rule"
   ]
  },
  {
   "cell_type": "code",
   "execution_count": 2,
   "id": "c27b6e7f",
   "metadata": {},
   "outputs": [],
   "source": [
    "import pyactr as actr\n",
    "import warnings\n",
    "warnings.filterwarnings(\"ignore\")\n",
    "\n",
    "# ACT-R model\n",
    "playing_memory = actr.ACTRModel()"
   ]
  },
  {
   "cell_type": "markdown",
   "id": "8d0802b2",
   "metadata": {},
   "source": [
    "Create two knowledge:\n",
    "- The goal knowledge\n",
    "- The production / rule knowledge"
   ]
  },
  {
   "cell_type": "code",
   "execution_count": null,
   "id": "c26f1999",
   "metadata": {},
   "outputs": [],
   "source": [
    "#Creating a chunk the goal will carry \n",
    "# name chunk type and define slots the buffer carry\n",
    "# chunk type - playgame\n",
    "# slots - game , activity\n",
    "actr.chunktype(\"playgame\", \"game, activity\")\n",
    "\n",
    "# token the goal buffer has at start of simulation\n",
    "# chunk typename - playgame, \n",
    "# game - memory, \n",
    "# activity - none\n",
    "# activity will be decided through the mind with production knowledge\n",
    "initial_chunk = actr.makechunk(typename=\"playgame\", game=\"memory\")\n",
    "\n",
    "# set goal buffer in model\n",
    "goal = playing_memory.set_goal(\"goal\")\n",
    "goal.add(initial_chunk)"
   ]
  },
  {
   "cell_type": "code",
   "execution_count": 17,
   "id": "7eddc0ea",
   "metadata": {},
   "outputs": [
    {
     "name": "stdout",
     "output_type": "stream",
     "text": [
      "{playgame(activity= , game= memory)}\n"
     ]
    }
   ],
   "source": [
    "# current state of our goal - no activity\n",
    "print(goal)"
   ]
  },
  {
   "cell_type": "markdown",
   "id": "74c61ca2",
   "metadata": {},
   "source": [
    "### Production rule \n",
    "\n",
    "- `=goal>` to `==>` is the IF statement, the chunk that must be in buffer for the rule to fire\n",
    "- After `==>` is the `action` taken if the rule fires, which in this case is modify the buffer, from `None` to `presskey`"
   ]
  },
  {
   "cell_type": "code",
   "execution_count": 12,
   "id": "48c6482d",
   "metadata": {},
   "outputs": [
    {
     "data": {
      "text/plain": [
       "{'=goal': playgame(activity= None, game= memory)}\n",
       "==>\n",
       "{'=goal': playgame(activity= presskey, game= )}"
      ]
     },
     "execution_count": 12,
     "metadata": {},
     "output_type": "execute_result"
    }
   ],
   "source": [
    "playing_memory.productionstring(name=\"startplaying\", string=\"\"\"\n",
    "=goal>\n",
    "isa      playgame\n",
    "game     memory\n",
    "activity None\n",
    "==>\n",
    "=goal>\n",
    "isa playgame\n",
    "activity presskey\"\"\")"
   ]
  },
  {
   "cell_type": "markdown",
   "id": "7d8c5b68",
   "metadata": {},
   "source": [
    "### Simulation \n",
    "\n",
    "The simulation output traces, which contain three things \n",
    "- time \n",
    "- ACT-R module\n",
    "- Action "
   ]
  },
  {
   "cell_type": "code",
   "execution_count": 13,
   "id": "d11c6506",
   "metadata": {},
   "outputs": [
    {
     "name": "stdout",
     "output_type": "stream",
     "text": [
      "(0, 'PROCEDURAL', 'CONFLICT RESOLUTION')\n",
      "(0, 'PROCEDURAL', 'RULE SELECTED: startplaying')\n",
      "(0.05, 'PROCEDURAL', 'RULE FIRED: startplaying')\n",
      "(0.05, 'goal', 'MODIFIED')\n",
      "(0.05, 'PROCEDURAL', 'CONFLICT RESOLUTION')\n",
      "(0.05, 'PROCEDURAL', 'NO RULE FOUND')\n"
     ]
    }
   ],
   "source": [
    "simulation_game = playing_memory.simulation()\n",
    "simulation_game.run()"
   ]
  },
  {
   "cell_type": "code",
   "execution_count": 18,
   "id": "2fe12045",
   "metadata": {},
   "outputs": [
    {
     "name": "stdout",
     "output_type": "stream",
     "text": [
      "{playgame(activity= , game= memory)}\n"
     ]
    }
   ],
   "source": [
    "# value of activity changed from none to presskey\n",
    "print(goal)"
   ]
  },
  {
   "cell_type": "markdown",
   "id": "4bd7f771",
   "metadata": {},
   "source": [
    "## Add Motor module"
   ]
  },
  {
   "cell_type": "markdown",
   "id": "0b5fae8d",
   "metadata": {},
   "source": [
    "### Production 2 \n",
    "\n",
    "- let the mind modify the environment through the `motor` module. \n",
    "- The `motor` module can simulate a `key press` on a keyboard.\n",
    "- IF the chunk type is playgame, and game- memory and activity - presskey\n",
    "- Take action using the `motor` buffer, `manual` commanding to press a key 1\n",
    "- Change the `activity` to `none` since it is taken by the motor module"
   ]
  },
  {
   "cell_type": "code",
   "execution_count": 21,
   "id": "648469fe",
   "metadata": {},
   "outputs": [
    {
     "data": {
      "text/plain": [
       "{'=goal': playgame(activity= presskey, game= memory)}\n",
       "==>\n",
       "{'+manual': _manual(cmd= press_key, key= 1), '=goal': playgame(activity= None, game= )}"
      ]
     },
     "execution_count": 21,
     "metadata": {},
     "output_type": "execute_result"
    }
   ],
   "source": [
    "playing_memory.productionstring(name=\"presskey\", string=\"\"\"\n",
    "=goal>\n",
    "isa  playgame\n",
    "game memory\n",
    "activity presskey\n",
    "==>\n",
    "+manual>\n",
    "isa _manual\n",
    "cmd press_key\n",
    "key 1\n",
    "=goal>\n",
    "isa playgame\n",
    "activity None\"\"\")"
   ]
  },
  {
   "cell_type": "code",
   "execution_count": 22,
   "id": "b1714096",
   "metadata": {},
   "outputs": [
    {
     "name": "stdout",
     "output_type": "stream",
     "text": [
      "(0, 'PROCEDURAL', 'CONFLICT RESOLUTION')\n",
      "(0, 'PROCEDURAL', 'RULE SELECTED: startplaying')\n",
      "(0.05, 'PROCEDURAL', 'RULE FIRED: startplaying')\n",
      "(0.05, 'goal', 'MODIFIED')\n",
      "(0.05, 'PROCEDURAL', 'CONFLICT RESOLUTION')\n",
      "(0.05, 'PROCEDURAL', 'RULE SELECTED: presskey')\n",
      "(0.1, 'PROCEDURAL', 'RULE FIRED: presskey')\n",
      "(0.1, 'goal', 'MODIFIED')\n",
      "(0.1, 'manual', 'COMMAND: press_key')\n",
      "(0.1, 'PROCEDURAL', 'CONFLICT RESOLUTION')\n",
      "(0.1, 'PROCEDURAL', 'RULE SELECTED: startplaying')\n",
      "(0.15, 'PROCEDURAL', 'RULE FIRED: startplaying')\n",
      "(0.15, 'goal', 'MODIFIED')\n",
      "(0.15, 'PROCEDURAL', 'CONFLICT RESOLUTION')\n",
      "(0.15, 'PROCEDURAL', 'RULE SELECTED: presskey')\n",
      "(0.2, 'PROCEDURAL', 'RULE FIRED: presskey')\n",
      "(0.2, 'goal', 'MODIFIED')\n",
      "(0.2, 'manual', 'COMMAND: press_key')\n",
      "(0.2, 'PROCEDURAL', 'CONFLICT RESOLUTION')\n",
      "(0.2, 'PROCEDURAL', 'RULE SELECTED: startplaying')\n",
      "(0.25, 'PROCEDURAL', 'RULE FIRED: startplaying')\n",
      "(0.25, 'goal', 'MODIFIED')\n",
      "(0.25, 'PROCEDURAL', 'CONFLICT RESOLUTION')\n",
      "(0.25, 'PROCEDURAL', 'RULE SELECTED: presskey')\n",
      "(0.3, 'PROCEDURAL', 'RULE FIRED: presskey')\n",
      "(0.3, 'goal', 'MODIFIED')\n",
      "(0.3, 'manual', 'COMMAND: press_key')\n",
      "(0.3, 'PROCEDURAL', 'CONFLICT RESOLUTION')\n",
      "(0.3, 'PROCEDURAL', 'RULE SELECTED: startplaying')\n",
      "(0.35, 'PROCEDURAL', 'RULE FIRED: startplaying')\n",
      "(0.35, 'goal', 'MODIFIED')\n",
      "(0.35, 'PROCEDURAL', 'CONFLICT RESOLUTION')\n",
      "(0.35, 'PROCEDURAL', 'RULE SELECTED: presskey')\n",
      "(0.4, 'PROCEDURAL', 'RULE FIRED: presskey')\n",
      "(0.4, 'goal', 'MODIFIED')\n",
      "(0.4, 'manual', 'COMMAND: press_key')\n",
      "(0.4, 'PROCEDURAL', 'CONFLICT RESOLUTION')\n",
      "(0.4, 'PROCEDURAL', 'RULE SELECTED: startplaying')\n",
      "(0.45, 'PROCEDURAL', 'RULE FIRED: startplaying')\n",
      "(0.45, 'goal', 'MODIFIED')\n",
      "(0.45, 'PROCEDURAL', 'CONFLICT RESOLUTION')\n",
      "(0.45, 'PROCEDURAL', 'RULE SELECTED: presskey')\n",
      "(0.5, 'PROCEDURAL', 'RULE FIRED: presskey')\n",
      "(0.5, 'goal', 'MODIFIED')\n",
      "(0.5, 'manual', 'COMMAND: press_key')\n",
      "(0.5, 'PROCEDURAL', 'CONFLICT RESOLUTION')\n",
      "(0.5, 'PROCEDURAL', 'RULE SELECTED: startplaying')\n",
      "(0.55, 'PROCEDURAL', 'RULE FIRED: startplaying')\n",
      "(0.55, 'goal', 'MODIFIED')\n",
      "(0.55, 'PROCEDURAL', 'CONFLICT RESOLUTION')\n",
      "(0.55, 'PROCEDURAL', 'RULE SELECTED: presskey')\n",
      "(0.6, 'PROCEDURAL', 'RULE FIRED: presskey')\n",
      "(0.6, 'goal', 'MODIFIED')\n",
      "(0.6, 'manual', 'COMMAND: press_key')\n",
      "(0.6, 'PROCEDURAL', 'CONFLICT RESOLUTION')\n",
      "(0.6, 'PROCEDURAL', 'RULE SELECTED: startplaying')\n",
      "(0.65, 'PROCEDURAL', 'RULE FIRED: startplaying')\n",
      "(0.65, 'goal', 'MODIFIED')\n",
      "(0.65, 'PROCEDURAL', 'CONFLICT RESOLUTION')\n",
      "(0.65, 'PROCEDURAL', 'RULE SELECTED: presskey')\n",
      "(0.7, 'PROCEDURAL', 'RULE FIRED: presskey')\n",
      "(0.7, 'goal', 'MODIFIED')\n",
      "(0.7, 'manual', 'COMMAND: press_key')\n",
      "(0.7, 'PROCEDURAL', 'CONFLICT RESOLUTION')\n",
      "(0.7, 'PROCEDURAL', 'RULE SELECTED: startplaying')\n",
      "(0.75, 'PROCEDURAL', 'RULE FIRED: startplaying')\n",
      "(0.75, 'goal', 'MODIFIED')\n",
      "(0.75, 'PROCEDURAL', 'CONFLICT RESOLUTION')\n",
      "(0.75, 'PROCEDURAL', 'RULE SELECTED: presskey')\n",
      "(0.8, 'PROCEDURAL', 'RULE FIRED: presskey')\n",
      "(0.8, 'goal', 'MODIFIED')\n",
      "(0.8, 'manual', 'COMMAND: press_key')\n",
      "(0.8, 'PROCEDURAL', 'CONFLICT RESOLUTION')\n",
      "(0.8, 'PROCEDURAL', 'RULE SELECTED: startplaying')\n",
      "(0.85, 'PROCEDURAL', 'RULE FIRED: startplaying')\n",
      "(0.85, 'goal', 'MODIFIED')\n",
      "(0.85, 'PROCEDURAL', 'CONFLICT RESOLUTION')\n",
      "(0.85, 'PROCEDURAL', 'RULE SELECTED: presskey')\n",
      "(0.9, 'PROCEDURAL', 'RULE FIRED: presskey')\n",
      "(0.9, 'goal', 'MODIFIED')\n",
      "(0.9, 'manual', 'COMMAND: press_key')\n",
      "(0.9, 'PROCEDURAL', 'CONFLICT RESOLUTION')\n",
      "(0.9, 'PROCEDURAL', 'RULE SELECTED: startplaying')\n",
      "(0.95, 'PROCEDURAL', 'RULE FIRED: startplaying')\n",
      "(0.95, 'goal', 'MODIFIED')\n",
      "(0.95, 'PROCEDURAL', 'CONFLICT RESOLUTION')\n",
      "(0.95, 'PROCEDURAL', 'RULE SELECTED: presskey')\n"
     ]
    }
   ],
   "source": [
    "# Now to start the simulation we have to add the chunk in the goal buffer\n",
    "# the chunk is modified with first production rule which is game-memory, activity-presskey\n",
    "goal.add(initial_chunk)\n",
    "simulation_game = playing_memory.simulation()\n",
    "simulation_game.run()"
   ]
  },
  {
   "cell_type": "code",
   "execution_count": 23,
   "id": "894fd1f7",
   "metadata": {},
   "outputs": [
    {
     "name": "stdout",
     "output_type": "stream",
     "text": [
      "{playgame(activity= presskey, game= memory)}\n"
     ]
    }
   ],
   "source": [
    "# value of activity after runnig the production\n",
    "print(goal)"
   ]
  },
  {
   "cell_type": "markdown",
   "id": "e3abd1ca",
   "metadata": {},
   "source": [
    "- The two rules keep looping  quickly that the model never gets a chance to actually press the key using manual buffer.\n",
    "\n",
    "- This is because the `startplaying` rule fires without waiting for the `manual` buffer `press the key `\n",
    "- We have to modify the first production, `startplaying` to only fire if the `manual` buffer is not trying to `press` a key. \n",
    "- We will do this by adding a query on the `state` of manual buffer being `free` or is not carrying action. "
   ]
  },
  {
   "cell_type": "code",
   "execution_count": 24,
   "id": "2711fa41",
   "metadata": {},
   "outputs": [
    {
     "data": {
      "text/plain": [
       "{'=goal': playgame(activity= None, game= memory), '?manual': {'state': 'free'}}\n",
       "==>\n",
       "{'=goal': playgame(activity= presskey, game= )}"
      ]
     },
     "execution_count": 24,
     "metadata": {},
     "output_type": "execute_result"
    }
   ],
   "source": [
    "playing_memory.productionstring(name=\"startplaying\", string=\"\"\"\n",
    "=goal>\n",
    "isa  playgame\n",
    "game memory\n",
    "activity None\n",
    "?manual>\n",
    "state free\n",
    "==>\n",
    "=goal>\n",
    "isa playgame\n",
    "activity presskey\"\"\")"
   ]
  },
  {
   "cell_type": "code",
   "execution_count": 25,
   "id": "d83f4a18",
   "metadata": {},
   "outputs": [
    {
     "name": "stdout",
     "output_type": "stream",
     "text": [
      "(0, 'PROCEDURAL', 'CONFLICT RESOLUTION')\n",
      "(0, 'PROCEDURAL', 'RULE SELECTED: startplaying')\n",
      "(0.05, 'PROCEDURAL', 'RULE FIRED: startplaying')\n",
      "(0.05, 'goal', 'MODIFIED')\n",
      "(0.05, 'PROCEDURAL', 'CONFLICT RESOLUTION')\n",
      "(0.05, 'PROCEDURAL', 'RULE SELECTED: presskey')\n",
      "(0.1, 'PROCEDURAL', 'RULE FIRED: presskey')\n",
      "(0.1, 'goal', 'MODIFIED')\n",
      "(0.1, 'manual', 'COMMAND: press_key')\n",
      "(0.1, 'PROCEDURAL', 'CONFLICT RESOLUTION')\n",
      "(0.1, 'PROCEDURAL', 'NO RULE FOUND')\n",
      "(0.35, 'manual', 'PREPARATION COMPLETE')\n",
      "(0.35, 'PROCEDURAL', 'CONFLICT RESOLUTION')\n",
      "(0.35, 'PROCEDURAL', 'NO RULE FOUND')\n",
      "(0.4, 'manual', 'INITIATION COMPLETE')\n",
      "(0.4, 'PROCEDURAL', 'CONFLICT RESOLUTION')\n",
      "(0.4, 'PROCEDURAL', 'NO RULE FOUND')\n",
      "(0.5, 'manual', 'KEY PRESSED: 1')\n",
      "(0.5, 'PROCEDURAL', 'CONFLICT RESOLUTION')\n",
      "(0.5, 'PROCEDURAL', 'NO RULE FOUND')\n",
      "(0.65, 'manual', 'MOVEMENT FINISHED')\n",
      "(0.65, 'PROCEDURAL', 'CONFLICT RESOLUTION')\n",
      "(0.65, 'PROCEDURAL', 'RULE SELECTED: startplaying')\n",
      "(0.7, 'PROCEDURAL', 'RULE FIRED: startplaying')\n",
      "(0.7, 'goal', 'MODIFIED')\n",
      "(0.7, 'PROCEDURAL', 'CONFLICT RESOLUTION')\n",
      "(0.7, 'PROCEDURAL', 'RULE SELECTED: presskey')\n",
      "(0.75, 'PROCEDURAL', 'RULE FIRED: presskey')\n",
      "(0.75, 'goal', 'MODIFIED')\n",
      "(0.75, 'manual', 'COMMAND: press_key')\n",
      "(0.75, 'manual', 'PREPARATION COMPLETE')\n",
      "(0.75, 'PROCEDURAL', 'CONFLICT RESOLUTION')\n",
      "(0.75, 'PROCEDURAL', 'NO RULE FOUND')\n",
      "(0.8, 'manual', 'INITIATION COMPLETE')\n",
      "(0.8, 'PROCEDURAL', 'CONFLICT RESOLUTION')\n",
      "(0.8, 'PROCEDURAL', 'NO RULE FOUND')\n",
      "(0.9, 'manual', 'KEY PRESSED: 1')\n",
      "(0.9, 'PROCEDURAL', 'CONFLICT RESOLUTION')\n",
      "(0.9, 'PROCEDURAL', 'NO RULE FOUND')\n"
     ]
    }
   ],
   "source": [
    "goal.add(initial_chunk)\n",
    "simulation_game = playing_memory.simulation()\n",
    "simulation_game.run()"
   ]
  },
  {
   "cell_type": "markdown",
   "id": "c3eae7a5",
   "metadata": {},
   "source": [
    "- Now after the command `press_key` from the manual buffer at `0.1 sec` the following things will happen \n",
    "    - Preparation complete `0.35 sec`\n",
    "    - initiation complete `0.4 sec`\n",
    "    - press the key 1  `0.5 sec`\n",
    "    - movement finished `0.65 sec`\n",
    "- Through out this time no rules are fired till the manual buffer state finished the action and become free\n",
    "- After that the `presskey` rule finished, the goal activity become back to None so the `startplaying` rule can be fired again "
   ]
  },
  {
   "cell_type": "code",
   "execution_count": null,
   "id": "5e378146",
   "metadata": {},
   "outputs": [
    {
     "name": "stdout",
     "output_type": "stream",
     "text": [
      "{playgame(activity= None, game= memory)}\n"
     ]
    }
   ],
   "source": [
    "# value of activity after runnig the productions\n",
    "print(goal)"
   ]
  }
 ],
 "metadata": {
  "kernelspec": {
   "display_name": "genai",
   "language": "python",
   "name": "python3"
  },
  "language_info": {
   "codemirror_mode": {
    "name": "ipython",
    "version": 3
   },
   "file_extension": ".py",
   "mimetype": "text/x-python",
   "name": "python",
   "nbconvert_exporter": "python",
   "pygments_lexer": "ipython3",
   "version": "3.12.9"
  }
 },
 "nbformat": 4,
 "nbformat_minor": 5
}
